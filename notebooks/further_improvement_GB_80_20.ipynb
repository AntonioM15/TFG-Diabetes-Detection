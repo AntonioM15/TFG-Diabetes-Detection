{
 "cells": [
  {
   "cell_type": "markdown",
   "source": [
    "<b>Dependencies:</b> <br>\n",
    "    import pandas as pd <br><br>\n",
    "    from sklearn.ensemble import GradientBoostingClassifier <br>\n",
    "    from sklearn.model_selection import train_test_split <br>\n",
    "    from sklearn.metrics import accuracy_score <br>\n",
    "    from sklearn.metrics import precision_score <br>\n",
    "    from sklearn.metrics import recall_score <br>\n",
    "    from sklearn.metrics import f1_score <br>\n"
   ],
   "metadata": {
    "collapsed": false
   }
  },
  {
   "cell_type": "code",
   "execution_count": 3,
   "outputs": [
    {
     "name": "stdout",
     "output_type": "stream",
     "text": [
      "Train/Test Split after Feature Selection\n",
      "  Model  Accuracy  Precision     Recall        f1\n",
      "0    GB  0.744828    0.653061  0.615385  0.633663 \n",
      "\n",
      "\n"
     ]
    }
   ],
   "source": [
    "# GRADIENT BOOSTING FEATURE SELECTION 80-20\n",
    "\n",
    "%matplotlib inline\n",
    "import pandas as pd\n",
    "\n",
    "# Models\n",
    "from sklearn.ensemble import GradientBoostingClassifier\n",
    "\n",
    "# Evaluation methods\n",
    "# tp: True Positive\n",
    "# fp: False Positive\n",
    "# tn: True Negative\n",
    "# fn: false negative\n",
    "\n",
    "# Number of correct predictions / Total number of predictions\n",
    "from sklearn.metrics import accuracy_score\n",
    "\n",
    "# tp / (tp + fp) -> Important when the cost of False Positive is high\n",
    "from sklearn.metrics import precision_score\n",
    "\n",
    "# tp / (tp + fn) -> Important when the cost of False Negative is high\n",
    "from sklearn.metrics import recall_score\n",
    "\n",
    "# (2* precision * recall) / (precision + recall) -> When looking for a balance between Precision and Recall AND\n",
    "#                                                   there is an uneven class distribution (large number of negatives)\n",
    "from sklearn.metrics import f1_score\n",
    "\n",
    "\n",
    "diabetes_training = pd.read_csv('../datasets/diabetes_train_data_80pc.csv')\n",
    "diabetes_test = pd.read_csv('../datasets/diabetes_test_data_20pc.csv')\n",
    "selected_features = ['Glucose', 'BMI', 'DiabetesPedigreeFunction', 'Age']\n",
    "X_train = diabetes_training[selected_features]\n",
    "y_train = diabetes_training.Outcome\n",
    "X_test = diabetes_test[selected_features]\n",
    "y_test = diabetes_test.Outcome\n",
    "random_seed = 3\n",
    "\n",
    "\n",
    "model = GradientBoostingClassifier(random_state=random_seed)\n",
    "model.fit(X_train, y_train)\n",
    "y_pred = model.predict(X_test)\n",
    "\n",
    "accuracy = (accuracy_score(y_test, y_pred))\n",
    "precision = (precision_score(y_test, y_pred))\n",
    "recall = (recall_score(y_test, y_pred))\n",
    "f1 = (f1_score(y_test, y_pred))\n",
    "\n",
    "print(\"Train/Test Split after Feature Selection\")\n",
    "results_train_test = pd.DataFrame({'Model': [\"GB\"],\n",
    "                                   'Accuracy': [accuracy],\n",
    "                                   'Precision ': [precision],\n",
    "                                   'Recall': [recall],\n",
    "                                   'f1': [f1],})\n",
    "print(results_train_test, \"\\n\\n\")\n",
    "\n"
   ],
   "metadata": {
    "collapsed": false,
    "pycharm": {
     "name": "#%%\n"
    }
   }
  },
  {
   "cell_type": "code",
   "execution_count": 1,
   "outputs": [
    {
     "name": "stdout",
     "output_type": "stream",
     "text": [
      "Average Train/Test Split after Feature Selection\n",
      "  Model  Accuracy  Precision   Recall        f1\n",
      "0    GB  0.764138    0.679176  0.6064  0.638127 \n",
      "\n",
      "\n"
     ]
    }
   ],
   "source": [
    "# AVERAGE GRADIENT BOOSTING FEATURE SELECTION 80-20\n",
    "\n",
    "%matplotlib inline\n",
    "import pandas as pd\n",
    "import random\n",
    "\n",
    "# Models\n",
    "from sklearn.ensemble import GradientBoostingClassifier\n",
    "\n",
    "# Evaluation methods\n",
    "from sklearn.model_selection import train_test_split\n",
    "\n",
    "# tp: True Positive\n",
    "# fp: False Positive\n",
    "# tn: True Negative\n",
    "# fn: false negative\n",
    "\n",
    "# Number of correct predictions / Total number of predictions\n",
    "from sklearn.metrics import accuracy_score\n",
    "\n",
    "# tp / (tp + fp) -> Important when the cost of False Positive is high\n",
    "from sklearn.metrics import precision_score\n",
    "\n",
    "# tp / (tp + fn) -> Important when the cost of False Negative is high\n",
    "from sklearn.metrics import recall_score\n",
    "\n",
    "# (2* precision * recall) / (precision + recall) -> When looking for a balance between Precision and Recall AND\n",
    "#                                                   there is an uneven class distribution (large number of negatives)\n",
    "from sklearn.metrics import f1_score\n",
    "\n",
    "\n",
    "diabetes_cleaned = pd.read_csv('../datasets/diabetes_cleaned.csv')\n",
    "selected_features = ['Glucose', 'BMI', 'DiabetesPedigreeFunction', 'Age']\n",
    "X = diabetes_cleaned[selected_features]\n",
    "y = diabetes_cleaned.Outcome\n",
    "accuracy = []\n",
    "precision = []\n",
    "recall = []\n",
    "f1 = []\n",
    "\n",
    "times_repeated = 100\n",
    "for _ in range(times_repeated):\n",
    "    random_seed = random.randint(0, 1000)\n",
    "\n",
    "    model = GradientBoostingClassifier(random_state=random_seed)\n",
    "\n",
    "    X_train, X_test, y_train, y_test = train_test_split(X, y, test_size=0.2,\n",
    "                                                        stratify = diabetes_cleaned.Outcome, random_state=random_seed)\n",
    "    model.fit(X_train, y_train)\n",
    "    y_pred = model.predict(X_test)\n",
    "\n",
    "    accuracy.append(accuracy_score(y_test, y_pred))\n",
    "    precision.append(precision_score(y_test, y_pred))\n",
    "    recall.append(recall_score(y_test, y_pred))\n",
    "    f1.append(f1_score(y_test, y_pred))\n",
    "\n",
    "\n",
    "print(\"Average Train/Test Split after Feature Selection\")\n",
    "results_train_test = pd.DataFrame({'Model': [\"GB\"],\n",
    "                                   'Accuracy': [sum(accuracy)/len(accuracy)],\n",
    "                                   'Precision ': [sum(precision)/len(precision)],\n",
    "                                   'Recall': [sum(recall)/len(recall)],\n",
    "                                   'f1': [sum(f1)/len(f1)],})\n",
    "print(results_train_test, \"\\n\\n\")\n",
    "\n"
   ],
   "metadata": {
    "collapsed": false,
    "pycharm": {
     "name": "#%%\n"
    }
   }
  },
  {
   "cell_type": "code",
   "execution_count": 3,
   "outputs": [
    {
     "name": "stdout",
     "output_type": "stream",
     "text": [
      "Train/Test Split after Data Augmentation\n",
      "  Model  Accuracy  Precision     Recall      f1\n",
      "0    GB  0.793103        0.75  0.634615  0.6875 \n",
      "\n",
      "\n"
     ]
    }
   ],
   "source": [
    "# GRADIENT BOOSTING DATA AUGMENTATION 80-20\n",
    "\n",
    "%matplotlib inline\n",
    "import pandas as pd\n",
    "\n",
    "# Models\n",
    "from sklearn.ensemble import GradientBoostingClassifier\n",
    "\n",
    "# Evaluation methods\n",
    "# tp: True Positive\n",
    "# fp: False Positive\n",
    "# tn: True Negative\n",
    "# fn: false negative\n",
    "\n",
    "# Number of correct predictions / Total number of predictions\n",
    "from sklearn.metrics import accuracy_score\n",
    "\n",
    "# tp / (tp + fp) -> Important when the cost of False Positive is high\n",
    "from sklearn.metrics import precision_score\n",
    "\n",
    "# tp / (tp + fn) -> Important when the cost of False Negative is high\n",
    "from sklearn.metrics import recall_score\n",
    "\n",
    "# (2* precision * recall) / (precision + recall) -> When looking for a balance between Precision and Recall AND\n",
    "#                                                   there is an uneven class distribution (large number of negatives)\n",
    "from sklearn.metrics import f1_score\n",
    "\n",
    "\n",
    "diabetes_da_training = pd.read_csv('../datasets/diabetes_train_data_80pc_100times_10.csv')\n",
    "diabetes_da_test = pd.read_csv('../datasets/diabetes_test_data_20pc.csv')\n",
    "features = ['Pregnancies', 'Glucose', 'BloodPressure', 'SkinThickness',\n",
    "                 'Insulin', 'BMI', 'DiabetesPedigreeFunction', 'Age']\n",
    "X_train = diabetes_da_training[features]\n",
    "y_train = diabetes_da_training.Outcome\n",
    "X_test = diabetes_da_test[features]\n",
    "y_test = diabetes_da_test.Outcome\n",
    "random_seed = 3\n",
    "\n",
    "model = GradientBoostingClassifier(random_state=random_seed)\n",
    "model.fit(X_train, y_train)\n",
    "y_pred = model.predict(X_test)\n",
    "\n",
    "accuracy = (accuracy_score(y_test, y_pred))\n",
    "precision = (precision_score(y_test, y_pred))\n",
    "recall = (recall_score(y_test, y_pred))\n",
    "f1 = (f1_score(y_test, y_pred))\n",
    "\n",
    "print(\"Train/Test Split after Data Augmentation\")\n",
    "results_train_test = pd.DataFrame({'Model': [\"GB\"],\n",
    "                                   'Accuracy': [accuracy],\n",
    "                                   'Precision ': [precision],\n",
    "                                   'Recall': [recall],\n",
    "                                   'f1': [f1],})\n",
    "print(results_train_test, \"\\n\\n\")\n",
    "\n"
   ],
   "metadata": {
    "collapsed": false,
    "pycharm": {
     "name": "#%%\n"
    }
   }
  },
  {
   "cell_type": "code",
   "execution_count": 7,
   "outputs": [
    {
     "name": "stdout",
     "output_type": "stream",
     "text": [
      "Train/Test Split after Feature Selection and Data Augmentation\n",
      "  Model  Accuracy  Precision     Recall        f1\n",
      "0    GB  0.786207    0.733333  0.634615  0.680412 \n",
      "\n",
      "\n"
     ]
    }
   ],
   "source": [
    "# GRADIENT BOOSTING FEATURE SELECTION + DATA AUGMENTATION 80-20\n",
    "\n",
    "%matplotlib inline\n",
    "import pandas as pd\n",
    "\n",
    "# Models\n",
    "from sklearn.ensemble import GradientBoostingClassifier\n",
    "\n",
    "# Evaluation methods\n",
    "# tp: True Positive\n",
    "# fp: False Positive\n",
    "# tn: True Negative\n",
    "# fn: false negative\n",
    "\n",
    "# Number of correct predictions / Total number of predictions\n",
    "from sklearn.metrics import accuracy_score\n",
    "\n",
    "# tp / (tp + fp) -> Important when the cost of False Positive is high\n",
    "from sklearn.metrics import precision_score\n",
    "\n",
    "# tp / (tp + fn) -> Important when the cost of False Negative is high\n",
    "from sklearn.metrics import recall_score\n",
    "\n",
    "# (2* precision * recall) / (precision + recall) -> When looking for a balance between Precision and Recall AND\n",
    "#                                                   there is an uneven class distribution (large number of negatives)\n",
    "from sklearn.metrics import f1_score\n",
    "\n",
    "\n",
    "diabetes_da_training = pd.read_csv('../datasets/diabetes_train_data_80pc_100times_10.csv')\n",
    "diabetes_da_test = pd.read_csv('../datasets/diabetes_test_data_20pc.csv')\n",
    "selected_features = ['Glucose', 'BMI', 'DiabetesPedigreeFunction', 'Age']\n",
    "X_train = diabetes_da_training[selected_features]\n",
    "y_train = diabetes_da_training.Outcome\n",
    "X_test = diabetes_da_test[selected_features]\n",
    "y_test = diabetes_da_test.Outcome\n",
    "random_seed = 3\n",
    "\n",
    "model = GradientBoostingClassifier(random_state=random_seed)\n",
    "model.fit(X_train, y_train)\n",
    "y_pred = model.predict(X_test)\n",
    "\n",
    "accuracy = (accuracy_score(y_test, y_pred))\n",
    "precision = (precision_score(y_test, y_pred))\n",
    "recall = (recall_score(y_test, y_pred))\n",
    "f1 = (f1_score(y_test, y_pred))\n",
    "\n",
    "print(\"Train/Test Split after Feature Selection and Data Augmentation\")\n",
    "results_train_test = pd.DataFrame({'Model': [\"GB\"],\n",
    "                                   'Accuracy': [accuracy],\n",
    "                                   'Precision ': [precision],\n",
    "                                   'Recall': [recall],\n",
    "                                   'f1': [f1],})\n",
    "print(results_train_test, \"\\n\\n\")\n",
    "\n"
   ],
   "metadata": {
    "collapsed": false,
    "pycharm": {
     "name": "#%%\n"
    }
   }
  },
  {
   "cell_type": "code",
   "execution_count": 4,
   "outputs": [
    {
     "name": "stdout",
     "output_type": "stream",
     "text": [
      "Best parameters:  {'learning_rate': 0.3, 'max_depth': 2, 'n_estimators': 32}\n"
     ]
    }
   ],
   "source": [
    "# GRADIENT PARAMETER TUNING\n",
    "\n",
    "%matplotlib inline\n",
    "import pandas as pd\n",
    "\n",
    "# Models\n",
    "from sklearn.ensemble import GradientBoostingClassifier\n",
    "\n",
    "# Parameter Tuning\n",
    "from sklearn.model_selection import GridSearchCV, ShuffleSplit\n",
    "\n",
    "# Using the 80% set for training (60%) and validation(%20), saving the remaining 20% for test\n",
    "diabetes_cleaned = pd.read_csv('../datasets/diabetes_train_data_80pc.csv')\n",
    "features = ['Pregnancies', 'Glucose', 'BloodPressure', 'SkinThickness',\n",
    "            'Insulin', 'BMI', 'DiabetesPedigreeFunction', 'Age']\n",
    "X = diabetes_cleaned[features]\n",
    "y = diabetes_cleaned.Outcome\n",
    "random_seed = 3\n",
    "\n",
    "\n",
    "# Train test split equivalent, test_size refers to the validation set (0.80 * 0.25) == (1 * 0.20)\n",
    "shuffle_split = ShuffleSplit(n_splits=1, test_size=0.25)\n",
    "\n",
    "hyperparameters = {\n",
    "    \"n_estimators\": [1, 2, 4, 8, 16, 32, 64, 100, 200, 300, 500],\n",
    "    \"max_depth\": [1, 2, 4, 8, 16, 32],\n",
    "    \"learning_rate\": [0.01, 0.05, 0.1, 0.3, 0.5, 1],\n",
    "}\n",
    "\n",
    "grid = GridSearchCV(GradientBoostingClassifier(), hyperparameters, cv=shuffle_split, scoring='f1')\n",
    "grid.fit(X, y)\n",
    "\n",
    "print(\"Best parameters: \", grid.best_params_)\n",
    "\n"
   ],
   "metadata": {
    "collapsed": false,
    "pycharm": {
     "name": "#%%\n"
    }
   }
  },
  {
   "cell_type": "code",
   "execution_count": 3,
   "outputs": [
    {
     "name": "stdout",
     "output_type": "stream",
     "text": [
      "Train/Test Split after Feature Selection, Data Augmentation and Parameter Tuning\n",
      "  Model  Accuracy  Precision     Recall        f1\n",
      "0    GB  0.793103     0.73913  0.653846  0.693878 \n",
      "\n",
      "\n"
     ]
    }
   ],
   "source": [
    "# GRADIENT BOOSTING FEATURE SELECTION + DATA AUGMENTATION + PARAMETER TUNING 80-20\n",
    "\n",
    "%matplotlib inline\n",
    "import pandas as pd\n",
    "\n",
    "# Models\n",
    "from sklearn.ensemble import GradientBoostingClassifier\n",
    "\n",
    "# Evaluation methods\n",
    "# tp: True Positive\n",
    "# fp: False Positive\n",
    "# tn: True Negative\n",
    "# fn: false negative\n",
    "\n",
    "# Number of correct predictions / Total number of predictions\n",
    "from sklearn.metrics import accuracy_score\n",
    "\n",
    "# tp / (tp + fp) -> Important when the cost of False Positive is high\n",
    "from sklearn.metrics import precision_score\n",
    "\n",
    "# tp / (tp + fn) -> Important when the cost of False Negative is high\n",
    "from sklearn.metrics import recall_score\n",
    "\n",
    "# (2* precision * recall) / (precision + recall) -> When looking for a balance between Precision and Recall AND\n",
    "#                                                   there is an uneven class distribution (large number of negatives)\n",
    "from sklearn.metrics import f1_score\n",
    "\n",
    "\n",
    "diabetes_da_training = pd.read_csv('../datasets/diabetes_train_data_80pc_100times_10.csv')\n",
    "diabetes_da_test = pd.read_csv('../datasets/diabetes_test_data_20pc.csv')\n",
    "selected_features = ['Glucose', 'BMI', 'DiabetesPedigreeFunction', 'Age']\n",
    "X_train = diabetes_da_training[selected_features]\n",
    "y_train = diabetes_da_training.Outcome\n",
    "X_test = diabetes_da_test[selected_features]\n",
    "y_test = diabetes_da_test.Outcome\n",
    "random_seed = 3\n",
    "\n",
    "model = GradientBoostingClassifier(learning_rate=0.5, max_depth=4, n_estimators=16, random_state=random_seed)\n",
    "model.fit(X_train, y_train)\n",
    "y_pred = model.predict(X_test)\n",
    "\n",
    "accuracy = (accuracy_score(y_test, y_pred))\n",
    "precision = (precision_score(y_test, y_pred))\n",
    "recall = (recall_score(y_test, y_pred))\n",
    "f1 = (f1_score(y_test, y_pred))\n",
    "\n",
    "print(\"Train/Test Split after Feature Selection, Data Augmentation and Parameter Tuning\")\n",
    "results_train_test = pd.DataFrame({'Model': [\"GB\"],\n",
    "                                   'Accuracy': [accuracy],\n",
    "                                   'Precision ': [precision],\n",
    "                                   'Recall': [recall],\n",
    "                                   'f1': [f1],})\n",
    "print(results_train_test, \"\\n\\n\")\n",
    "\n"
   ],
   "metadata": {
    "collapsed": false,
    "pycharm": {
     "name": "#%%\n"
    }
   }
  }
 ],
 "metadata": {
  "kernelspec": {
   "display_name": "Python 3",
   "language": "python",
   "name": "python3"
  },
  "language_info": {
   "codemirror_mode": {
    "name": "ipython",
    "version": 2
   },
   "file_extension": ".py",
   "mimetype": "text/x-python",
   "name": "python",
   "nbconvert_exporter": "python",
   "pygments_lexer": "ipython2",
   "version": "2.7.6"
  }
 },
 "nbformat": 4,
 "nbformat_minor": 0
}