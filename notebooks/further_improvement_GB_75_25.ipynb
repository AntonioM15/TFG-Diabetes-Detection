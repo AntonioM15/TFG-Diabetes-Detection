{
 "cells": [
  {
   "cell_type": "markdown",
   "source": [
    "<b>Dependencies:</b> <br>\n",
    "    import pandas as pd <br><br>\n",
    "    from sklearn.ensemble import GradientBoostingClassifier <br>\n",
    "    from sklearn.model_selection import train_test_split <br>\n",
    "    from sklearn.metrics import accuracy_score <br>\n",
    "    from sklearn.metrics import precision_score <br>\n",
    "    from sklearn.metrics import recall_score <br>\n",
    "    from sklearn.metrics import f1_score <br>\n"
   ],
   "metadata": {
    "collapsed": false
   }
  },
  {
   "cell_type": "code",
   "execution_count": 1,
   "outputs": [
    {
     "name": "stdout",
     "output_type": "stream",
     "text": [
      "Train/Test Split after Feature Selection\n",
      "  Model  Accuracy  Precision     Recall        f1\n",
      "0    GB  0.751381    0.684211  0.590909  0.634146 \n",
      "\n",
      "\n"
     ]
    }
   ],
   "source": [
    "# GRADIENT BOOSTING FEATURE SELECTION 75-25\n",
    "\n",
    "%matplotlib inline\n",
    "import pandas as pd\n",
    "\n",
    "# Models\n",
    "from sklearn.ensemble import GradientBoostingClassifier\n",
    "\n",
    "# Evaluation methods\n",
    "# tp: True Positive\n",
    "# fp: False Positive\n",
    "# tn: True Negative\n",
    "# fn: false negative\n",
    "\n",
    "# Number of correct predictions / Total number of predictions\n",
    "from sklearn.metrics import accuracy_score\n",
    "\n",
    "# tp / (tp + fp) -> Important when the cost of False Positive is high\n",
    "from sklearn.metrics import precision_score\n",
    "\n",
    "# tp / (tp + fn) -> Important when the cost of False Negative is high\n",
    "from sklearn.metrics import recall_score\n",
    "\n",
    "# (2* precision * recall) / (precision + recall) -> When looking for a balance between Precision and Recall AND\n",
    "#                                                   there is an uneven class distribution (large number of negatives)\n",
    "from sklearn.metrics import f1_score\n",
    "\n",
    "\n",
    "diabetes_training = pd.read_csv('../datasets/diabetes_train_data_75pc.csv')\n",
    "diabetes_test = pd.read_csv('../datasets/diabetes_test_data_25pc.csv')\n",
    "selected_features = ['Glucose', 'BMI', 'DiabetesPedigreeFunction', 'Age']\n",
    "X_train = diabetes_training[selected_features]\n",
    "y_train = diabetes_training.Outcome\n",
    "X_test = diabetes_test[selected_features]\n",
    "y_test = diabetes_test.Outcome\n",
    "random_seed = 3\n",
    "\n",
    "\n",
    "model = GradientBoostingClassifier(random_state=random_seed)\n",
    "model.fit(X_train, y_train)\n",
    "y_pred = model.predict(X_test)\n",
    "\n",
    "accuracy = (accuracy_score(y_test, y_pred))\n",
    "precision = (precision_score(y_test, y_pred))\n",
    "recall = (recall_score(y_test, y_pred))\n",
    "f1 = (f1_score(y_test, y_pred))\n",
    "\n",
    "print(\"Train/Test Split after Feature Selection\")\n",
    "results_train_test = pd.DataFrame({'Model': [\"GB\"],\n",
    "                                   'Accuracy': [accuracy],\n",
    "                                   'Precision ': [precision],\n",
    "                                   'Recall': [recall],\n",
    "                                   'f1': [f1],})\n",
    "print(results_train_test, \"\\n\\n\")\n",
    "\n"
   ],
   "metadata": {
    "collapsed": false,
    "pycharm": {
     "name": "#%%\n"
    }
   }
  },
  {
   "cell_type": "code",
   "execution_count": 2,
   "outputs": [
    {
     "name": "stdout",
     "output_type": "stream",
     "text": [
      "Average Train/Test Split after Feature Selection\n",
      "  Model  Accuracy  Precision     Recall        f1\n",
      "0    GB  0.760387    0.670478  0.596774  0.630002 \n",
      "\n",
      "\n"
     ]
    }
   ],
   "source": [
    "# AVERAGE GRADIENT BOOSTING FEATURE SELECTION 75-25\n",
    "\n",
    "%matplotlib inline\n",
    "import pandas as pd\n",
    "import random\n",
    "\n",
    "# Models\n",
    "from sklearn.ensemble import GradientBoostingClassifier\n",
    "\n",
    "# Evaluation methods\n",
    "from sklearn.model_selection import train_test_split\n",
    "\n",
    "# tp: True Positive\n",
    "# fp: False Positive\n",
    "# tn: True Negative\n",
    "# fn: false negative\n",
    "\n",
    "# Number of correct predictions / Total number of predictions\n",
    "from sklearn.metrics import accuracy_score\n",
    "\n",
    "# tp / (tp + fp) -> Important when the cost of False Positive is high\n",
    "from sklearn.metrics import precision_score\n",
    "\n",
    "# tp / (tp + fn) -> Important when the cost of False Negative is high\n",
    "from sklearn.metrics import recall_score\n",
    "\n",
    "# (2* precision * recall) / (precision + recall) -> When looking for a balance between Precision and Recall AND\n",
    "#                                                   there is an uneven class distribution (large number of negatives)\n",
    "from sklearn.metrics import f1_score\n",
    "\n",
    "\n",
    "diabetes_cleaned = pd.read_csv('../datasets/diabetes_cleaned.csv')\n",
    "selected_features = ['Glucose', 'BMI', 'DiabetesPedigreeFunction', 'Age']\n",
    "X = diabetes_cleaned[selected_features]\n",
    "y = diabetes_cleaned.Outcome\n",
    "accuracy = []\n",
    "precision = []\n",
    "recall = []\n",
    "f1 = []\n",
    "\n",
    "times_repeated = 100\n",
    "for _ in range(times_repeated):\n",
    "    random_seed = random.randint(0, 1000)\n",
    "\n",
    "    model = GradientBoostingClassifier(random_state=random_seed)\n",
    "\n",
    "    X_train, X_test, y_train, y_test = train_test_split(X, y, stratify = diabetes_cleaned.Outcome, random_state=random_seed)\n",
    "    model.fit(X_train, y_train)\n",
    "    y_pred = model.predict(X_test)\n",
    "\n",
    "    accuracy.append(accuracy_score(y_test, y_pred))\n",
    "    precision.append(precision_score(y_test, y_pred))\n",
    "    recall.append(recall_score(y_test, y_pred))\n",
    "    f1.append(f1_score(y_test, y_pred))\n",
    "\n",
    "\n",
    "print(\"Average Train/Test Split after Feature Selection\")\n",
    "results_train_test = pd.DataFrame({'Model': [\"GB\"],\n",
    "                                   'Accuracy': [sum(accuracy)/len(accuracy)],\n",
    "                                   'Precision ': [sum(precision)/len(precision)],\n",
    "                                   'Recall': [sum(recall)/len(recall)],\n",
    "                                   'f1': [sum(f1)/len(f1)],})\n",
    "print(results_train_test, \"\\n\\n\")\n",
    "\n"
   ],
   "metadata": {
    "collapsed": false,
    "pycharm": {
     "name": "#%%\n"
    }
   }
  },
  {
   "cell_type": "code",
   "execution_count": 3,
   "outputs": [
    {
     "name": "stdout",
     "output_type": "stream",
     "text": [
      "Train/Test Split after Data Augmentation\n",
      "  Model  Accuracy  Precision     Recall        f1\n",
      "0    GB  0.801105    0.788462  0.621212  0.694915 \n",
      "\n",
      "\n"
     ]
    }
   ],
   "source": [
    "# GRADIENT BOOSTING DATA AUGMENTATION 75-25\n",
    "\n",
    "%matplotlib inline\n",
    "import pandas as pd\n",
    "\n",
    "# Models\n",
    "from sklearn.ensemble import GradientBoostingClassifier\n",
    "\n",
    "# Evaluation methods\n",
    "# tp: True Positive\n",
    "# fp: False Positive\n",
    "# tn: True Negative\n",
    "# fn: false negative\n",
    "\n",
    "# Number of correct predictions / Total number of predictions\n",
    "from sklearn.metrics import accuracy_score\n",
    "\n",
    "# tp / (tp + fp) -> Important when the cost of False Positive is high\n",
    "from sklearn.metrics import precision_score\n",
    "\n",
    "# tp / (tp + fn) -> Important when the cost of False Negative is high\n",
    "from sklearn.metrics import recall_score\n",
    "\n",
    "# (2* precision * recall) / (precision + recall) -> When looking for a balance between Precision and Recall AND\n",
    "#                                                   there is an uneven class distribution (large number of negatives)\n",
    "from sklearn.metrics import f1_score\n",
    "\n",
    "\n",
    "diabetes_da_training = pd.read_csv('../datasets/diabetes_train_data_75pc_100times_10.csv')\n",
    "diabetes_da_test = pd.read_csv('../datasets/diabetes_test_data_25pc.csv')\n",
    "features = ['Pregnancies', 'Glucose', 'BloodPressure', 'SkinThickness',\n",
    "                 'Insulin', 'BMI', 'DiabetesPedigreeFunction', 'Age']\n",
    "X_train = diabetes_da_training[features]\n",
    "y_train = diabetes_da_training.Outcome\n",
    "X_test = diabetes_da_test[features]\n",
    "y_test = diabetes_da_test.Outcome\n",
    "random_seed = 3\n",
    "\n",
    "model = GradientBoostingClassifier(random_state=random_seed)\n",
    "model.fit(X_train, y_train)\n",
    "y_pred = model.predict(X_test)\n",
    "\n",
    "accuracy = (accuracy_score(y_test, y_pred))\n",
    "precision = (precision_score(y_test, y_pred))\n",
    "recall = (recall_score(y_test, y_pred))\n",
    "f1 = (f1_score(y_test, y_pred))\n",
    "\n",
    "print(\"Train/Test Split after Data Augmentation\")\n",
    "results_train_test = pd.DataFrame({'Model': [\"GB\"],\n",
    "                                   'Accuracy': [accuracy],\n",
    "                                   'Precision ': [precision],\n",
    "                                   'Recall': [recall],\n",
    "                                   'f1': [f1],})\n",
    "print(results_train_test, \"\\n\\n\")\n",
    "\n"
   ],
   "metadata": {
    "collapsed": false,
    "pycharm": {
     "name": "#%%\n"
    }
   }
  },
  {
   "cell_type": "code",
   "execution_count": 1,
   "outputs": [
    {
     "name": "stdout",
     "output_type": "stream",
     "text": [
      "Train/Test Split after Feature Selection and Data Augmentation\n",
      "  Model  Accuracy  Precision     Recall    f1\n",
      "0    GB   0.80663    0.762712  0.681818  0.72 \n",
      "\n",
      "\n"
     ]
    }
   ],
   "source": [
    "# GRADIENT BOOSTING FEATURE SELECTION + DATA AUGMENTATION 75-25\n",
    "\n",
    "%matplotlib inline\n",
    "import pandas as pd\n",
    "\n",
    "# Models\n",
    "from sklearn.ensemble import GradientBoostingClassifier\n",
    "\n",
    "# Evaluation methods\n",
    "# tp: True Positive\n",
    "# fp: False Positive\n",
    "# tn: True Negative\n",
    "# fn: false negative\n",
    "\n",
    "# Number of correct predictions / Total number of predictions\n",
    "from sklearn.metrics import accuracy_score\n",
    "\n",
    "# tp / (tp + fp) -> Important when the cost of False Positive is high\n",
    "from sklearn.metrics import precision_score\n",
    "\n",
    "# tp / (tp + fn) -> Important when the cost of False Negative is high\n",
    "from sklearn.metrics import recall_score\n",
    "\n",
    "# (2* precision * recall) / (precision + recall) -> When looking for a balance between Precision and Recall AND\n",
    "#                                                   there is an uneven class distribution (large number of negatives)\n",
    "from sklearn.metrics import f1_score\n",
    "\n",
    "\n",
    "diabetes_da_training = pd.read_csv('../datasets/diabetes_train_data_75pc_100times_10.csv')\n",
    "diabetes_da_test = pd.read_csv('../datasets/diabetes_test_data_25pc.csv')\n",
    "selected_features = ['Glucose', 'BMI', 'DiabetesPedigreeFunction', 'Age']\n",
    "X_train = diabetes_da_training[selected_features]\n",
    "y_train = diabetes_da_training.Outcome\n",
    "X_test = diabetes_da_test[selected_features]\n",
    "y_test = diabetes_da_test.Outcome\n",
    "random_seed = 3\n",
    "\n",
    "model = GradientBoostingClassifier(random_state=random_seed)\n",
    "model.fit(X_train, y_train)\n",
    "y_pred = model.predict(X_test)\n",
    "\n",
    "accuracy = (accuracy_score(y_test, y_pred))\n",
    "precision = (precision_score(y_test, y_pred))\n",
    "recall = (recall_score(y_test, y_pred))\n",
    "f1 = (f1_score(y_test, y_pred))\n",
    "\n",
    "print(\"Train/Test Split after Feature Selection and Data Augmentation\")\n",
    "results_train_test = pd.DataFrame({'Model': [\"GB\"],\n",
    "                                   'Accuracy': [accuracy],\n",
    "                                   'Precision ': [precision],\n",
    "                                   'Recall': [recall],\n",
    "                                   'f1': [f1],})\n",
    "print(results_train_test, \"\\n\\n\")\n",
    "\n",
    "\n"
   ],
   "metadata": {
    "collapsed": false,
    "pycharm": {
     "name": "#%%\n"
    }
   }
  }
 ],
 "metadata": {
  "kernelspec": {
   "display_name": "Python 3",
   "language": "python",
   "name": "python3"
  },
  "language_info": {
   "codemirror_mode": {
    "name": "ipython",
    "version": 2
   },
   "file_extension": ".py",
   "mimetype": "text/x-python",
   "name": "python",
   "nbconvert_exporter": "python",
   "pygments_lexer": "ipython2",
   "version": "2.7.6"
  }
 },
 "nbformat": 4,
 "nbformat_minor": 0
}