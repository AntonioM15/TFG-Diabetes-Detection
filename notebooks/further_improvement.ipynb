{
 "cells": [
  {
   "cell_type": "markdown",
   "source": [
    "<b>Dependencies:</b> <br>\n",
    "    %matplotlib inline <br>\n",
    "    import pandas as pd <br>\n",
    "    import random <br>\n",
    "\n",
    "    from sklearn.utils import shuffle <br>\n",
    "    from sklearn.ensemble import GradientBoostingClassifier, RandomForestClassifier\n",
    "    from sklearn.feature_selection import RFE\n"
   ],
   "metadata": {
    "collapsed": false
   }
  },
  {
   "cell_type": "code",
   "execution_count": 1,
   "outputs": [
    {
     "name": "stdout",
     "output_type": "stream",
     "text": [
      "['Glucose', 'BMI', 'DiabetesPedigreeFunction', 'Age']\n"
     ]
    }
   ],
   "source": [
    "# FEATURE SELECTION GRADIENT BOOSTING\n",
    "\n",
    "import pandas as pd\n",
    "\n",
    "\n",
    "# Models\n",
    "from sklearn.ensemble import GradientBoostingClassifier\n",
    "# Feature selection\n",
    "from sklearn.feature_selection import RFE\n",
    "\n",
    "\n",
    "diabetes_cleaned = pd.read_csv('../datasets/diabetes_cleaned.csv')\n",
    "features = ['Pregnancies', 'Glucose', 'BloodPressure', 'SkinThickness',\n",
    "            'Insulin', 'BMI', 'DiabetesPedigreeFunction', 'Age']\n",
    "X = diabetes_cleaned[features]\n",
    "y = diabetes_cleaned.Outcome\n",
    "\n",
    "\n",
    "model = GradientBoostingClassifier()\n",
    "gb_rfe = RFE(estimator=model, step=1)\n",
    "gb_rfe.fit(X, y)\n",
    "\n",
    "features.reverse()\n",
    "selected_features = []\n",
    "for _, feature_selected in enumerate(gb_rfe.support_):\n",
    "    if feature_selected:\n",
    "        selected_features.append(features.pop())\n",
    "    else:\n",
    "        # Discarded\n",
    "        features.pop()\n",
    "\n",
    "print(selected_features)\n",
    "\n"
   ],
   "metadata": {
    "collapsed": false,
    "pycharm": {
     "name": "#%%\n"
    }
   }
  },
  {
   "cell_type": "code",
   "execution_count": 5,
   "outputs": [
    {
     "name": "stdout",
     "output_type": "stream",
     "text": [
      "['Glucose', 'BMI', 'DiabetesPedigreeFunction', 'Age']\n"
     ]
    }
   ],
   "source": [
    "# FEATURE SELECTION RANDOM FOREST\n",
    "\n",
    "import pandas as pd\n",
    "\n",
    "# Models\n",
    "from sklearn.ensemble import RandomForestClassifier\n",
    "# Feature selection\n",
    "from sklearn.feature_selection import RFE\n",
    "\n",
    "\n",
    "diabetes_cleaned = pd.read_csv('../datasets/diabetes_cleaned.csv')\n",
    "features = ['Pregnancies', 'Glucose', 'BloodPressure', 'SkinThickness',\n",
    "            'Insulin', 'BMI', 'DiabetesPedigreeFunction', 'Age']\n",
    "X = diabetes_cleaned[features]\n",
    "y = diabetes_cleaned.Outcome\n",
    "\n",
    "\n",
    "model = RandomForestClassifier()\n",
    "gb_rfe = RFE(estimator=model, step=1)\n",
    "gb_rfe.fit(X, y)\n",
    "\n",
    "features.reverse()\n",
    "selected_features = []\n",
    "for _, feature_selected in enumerate(gb_rfe.support_):\n",
    "    if feature_selected:\n",
    "        selected_features.append(features.pop())\n",
    "    else:\n",
    "        # Discarded\n",
    "        features.pop()\n",
    "\n",
    "print(selected_features)\n",
    "\n"
   ],
   "metadata": {
    "collapsed": false,
    "pycharm": {
     "name": "#%%\n"
    }
   }
  },
  {
   "cell_type": "code",
   "execution_count": 3,
   "outputs": [
    {
     "name": "stdout",
     "output_type": "stream",
     "text": [
      "Dataset dimensions after DA: 54944\n"
     ]
    }
   ],
   "source": [
    "# DATA AUGMENTATION 75-25\n",
    "\n",
    "import pandas as pd\n",
    "import random\n",
    "from sklearn.utils import shuffle\n",
    "\n",
    "\n",
    "diabetes_cleaned = pd.read_csv('../datasets/diabetes_cleaned.csv')\n",
    "train_data = diabetes_cleaned.loc[:543] #75% of samples\n",
    "test_data = diabetes_cleaned.loc[543:]  #25% of samples\n",
    "train_data_augmented = train_data.copy()\n",
    "\n",
    "selected_features_int = ['Glucose', 'Age', 'BloodPressure', 'Insulin', 'Pregnancies', 'SkinThickness']\n",
    "\n",
    "# One decimal value\n",
    "selected_features_float_one = ['BMI']\n",
    "\n",
    "# Three decimal value\n",
    "selected_features_float_three = ['DiabetesPedigreeFunction']\n",
    "\n",
    "times_repeated = 100\n",
    "for _ in range(times_repeated):\n",
    "    # random_variation takes values [0.01, 0.10[\n",
    "    random_variation = 0.01 + random.random()/10\n",
    "    df = train_data.copy()\n",
    "\n",
    "    # Glucose and Age\n",
    "    for feature in selected_features_int:\n",
    "        for pos, value in enumerate(df[feature]):\n",
    "            # df[feature][pos] = value  is translated to  df.__getitem__(feature).__setitem__(pos, value)\n",
    "            # It is hard to predict if __getitem__ will return a view or a copy: the new value may not be changed!\n",
    "            # To avoid unexpected results and SettingWithCopyWarning the following approach will be used instead\n",
    "            df.at[pos, feature] = int((value + random.uniform(-value, + value) * random_variation))\n",
    "    # BMI\n",
    "    for feature in selected_features_float_one:\n",
    "        for pos, value in enumerate(df[feature]):\n",
    "            df.at[pos, feature] = round(value + random.uniform(-value, + value) * random_variation, 1)\n",
    "    # DiabetesPedigreeFunction\n",
    "    for feature in selected_features_float_three:\n",
    "        for pos, value in enumerate(df[feature]):\n",
    "            df.at[pos, feature] = round(value + random.uniform(-value, + value) * random_variation, 3)\n",
    "    train_data_augmented = train_data_augmented.append(df, sort=False, ignore_index=True)\n",
    "\n",
    "\n",
    "# Avoiding index column being saved\n",
    "train_data_augmented = train_data_augmented.drop(columns=['Unnamed: 0'])\n",
    "# Shuffling the rows\n",
    "train_data_augmented = shuffle(train_data_augmented)\n",
    "train_data_augmented.reset_index(inplace=True, drop=True)\n",
    "\n",
    "train_data.to_csv('../datasets/diabetes_train_data_75pc.csv')\n",
    "test_data.to_csv('../datasets/diabetes_test_data_25pc.csv')\n",
    "train_data_augmented.to_csv('../datasets/diabetes_train_data_75pc_100times_10.csv')\n",
    "\n",
    "print(\"Dataset dimensions after DA: {}\".format(len(train_data_augmented)))\n",
    "\n"
   ],
   "metadata": {
    "collapsed": false,
    "pycharm": {
     "name": "#%%\n"
    }
   }
  },
  {
   "cell_type": "code",
   "execution_count": 2,
   "outputs": [
    {
     "name": "stdout",
     "output_type": "stream",
     "text": [
      "Dataset dimensions after DA: 58580\n"
     ]
    }
   ],
   "source": [
    "# DATA AUGMENTATION 80-20\n",
    "\n",
    "import pandas as pd\n",
    "import random\n",
    "from sklearn.utils import shuffle\n",
    "\n",
    "\n",
    "diabetes_cleaned = pd.read_csv('../datasets/diabetes_cleaned.csv')\n",
    "train_data = diabetes_cleaned.loc[:579] #80% of samples\n",
    "test_data = diabetes_cleaned.loc[579:]  #20% of samples\n",
    "train_data_augmented = train_data.copy()\n",
    "\n",
    "selected_features_int = ['Glucose', 'Age', 'BloodPressure', 'Insulin', 'Pregnancies', 'SkinThickness']\n",
    "\n",
    "# One decimal value\n",
    "selected_features_float_one = ['BMI']\n",
    "\n",
    "# Three decimal value\n",
    "selected_features_float_three = ['DiabetesPedigreeFunction']\n",
    "\n",
    "times_repeated = 100\n",
    "for _ in range(times_repeated):\n",
    "    # random_variation takes values [0.01, 0.10[\n",
    "    random_variation = 0.01 + random.random()/10\n",
    "    df = train_data.copy()\n",
    "\n",
    "    # Glucose and Age\n",
    "    for feature in selected_features_int:\n",
    "        for pos, value in enumerate(df[feature]):\n",
    "            # df[feature][pos] = value  is translated to  df.__getitem__(feature).__setitem__(pos, value)\n",
    "            # It is hard to predict if __getitem__ will return a view or a copy: the new value may not be changed!\n",
    "            # To avoid unexpected results and SettingWithCopyWarning the following approach will be used instead\n",
    "            df.at[pos, feature] = int((value + random.uniform(-value, + value) * random_variation))\n",
    "    # BMI\n",
    "    for feature in selected_features_float_one:\n",
    "        for pos, value in enumerate(df[feature]):\n",
    "            df.at[pos, feature] = round(value + random.uniform(-value, + value) * random_variation, 1)\n",
    "    # DiabetesPedigreeFunction\n",
    "    for feature in selected_features_float_three:\n",
    "        for pos, value in enumerate(df[feature]):\n",
    "            df.at[pos, feature] = round(value + random.uniform(-value, + value) * random_variation, 3)\n",
    "    train_data_augmented = train_data_augmented.append(df, sort=False, ignore_index=True)\n",
    "\n",
    "\n",
    "# Avoiding index column being saved\n",
    "train_data_augmented = train_data_augmented.drop(columns=['Unnamed: 0'])\n",
    "# Shuffling the rows\n",
    "train_data_augmented = shuffle(train_data_augmented)\n",
    "train_data_augmented.reset_index(inplace=True, drop=True)\n",
    "\n",
    "train_data.to_csv('../datasets/diabetes_train_data_80pc.csv')\n",
    "test_data.to_csv('../datasets/diabetes_test_data_20pc.csv')\n",
    "train_data_augmented.to_csv('../datasets/diabetes_train_data_80pc_100times_10.csv')\n",
    "\n",
    "print(\"Dataset dimensions after DA: {}\".format(len(train_data_augmented)))\n",
    "\n"
   ],
   "metadata": {
    "collapsed": false,
    "pycharm": {
     "name": "#%%\n"
    }
   }
  }
 ],
 "metadata": {
  "kernelspec": {
   "display_name": "Python 3",
   "language": "python",
   "name": "python3"
  },
  "language_info": {
   "codemirror_mode": {
    "name": "ipython",
    "version": 2
   },
   "file_extension": ".py",
   "mimetype": "text/x-python",
   "name": "python",
   "nbconvert_exporter": "python",
   "pygments_lexer": "ipython2",
   "version": "2.7.6"
  }
 },
 "nbformat": 4,
 "nbformat_minor": 0
}